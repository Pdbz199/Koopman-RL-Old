{
 "cells": [
  {
   "cell_type": "markdown",
   "source": [
    "We test the method for finding the Koopman tensor on a simple system where action $u=0$ halves the state ($(2,4)\\to (1,2)$) and action $u=1$ doubles the state $((2,4)\\to (4,8))$. Furthermore, note that in the OLS calculations below, we made use of the following equality\r\n",
    "$$\\min_{M} \\sum_{i=1}^N \\left\\|  M \\left( \\psi(u_i)\\otimes  \\phi(x_i)\\right) - \\phi(x_i')  \\right\\|^2 = \\min_{M}\\left\\lVert M\\left(\\psi(u_1) \\otimes \\phi(x_1),\\cdots , \\psi(u_n) \\otimes \\phi(x_n) \\right)-\\left(\\phi(x'_1),\\cdots , \\phi(x'_n) \\right)\\right\\rVert _F$$\r\n",
    "\r\n",
    "where, in our application, $\\phi(x) = x$ and $\\psi(u)$ is the one-hot indicator function."
   ],
   "metadata": {}
  },
  {
   "cell_type": "code",
   "execution_count": 29,
   "source": [
    "import numpy as np"
   ],
   "outputs": [],
   "metadata": {}
  },
  {
   "cell_type": "code",
   "execution_count": 30,
   "source": [
    "def ols(X, Y, pinv=True):\r\n",
    "    if pinv:\r\n",
    "        return np.linalg.pinv(X.T @ X) @ X.T @ Y\r\n",
    "    return np.linalg.inv(X.T @ X) @ X.T @ Y"
   ],
   "outputs": [],
   "metadata": {}
  },
  {
   "cell_type": "code",
   "execution_count": 31,
   "source": [
    "# System dynamics\r\n",
    "True_K0 = np.array([[0.5, 0], [0, 0.5]])\r\n",
    "True_K1 = np.array([[2, 0], [0, 2]])\r\n",
    "def f(x, u):\r\n",
    "    if u == 0:\r\n",
    "        return True_K0 @ x\r\n",
    "    return True_K1 @ x"
   ],
   "outputs": [],
   "metadata": {}
  },
  {
   "cell_type": "code",
   "execution_count": 32,
   "source": [
    "# Hotkey feature map for two actions\r\n",
    "def psi(u):\r\n",
    "    if u == 0:\r\n",
    "        return np.array([[1], [0]])\r\n",
    "    return np.array([[0], [1]])\r\n",
    "\r\n",
    "N = 1000 # sample size\r\n",
    "# Note the system is linear in the state so there is no need for a feature map for x\r\n",
    "d_x = 2\r\n",
    "d_psi = 2\r\n",
    "x0 = np.array([[2],[4]])\r\n",
    "X = np.empty((x0.shape[0],N+1))\r\n",
    "X[:, 0] = x0[:,0]\r\n",
    "U = np.empty((1,N))\r\n",
    "Psi = np.empty((d_psi, N))\r\n",
    "kronMatrix = np.empty((d_psi*d_x, N))\r\n",
    "\r\n",
    "\r\n",
    "for i in range(N):\r\n",
    "    U[0, i] = np.round(np.random.uniform(0,1))\r\n",
    "    Psi[:, i] = psi(U[0,i])[:, 0]\r\n",
    "    X[:, i+1] = f(X[:,i], U[0,i])\r\n",
    "    kronMatrix[:, i] = np.kron(X[:, i], Psi[:, i])\r\n",
    "\r\n",
    "X_prime = np.roll(X, -1, axis=1)[:,:-1]\r\n",
    "M =  ols(kronMatrix.T, X_prime.T).T\r\n",
    "\r\n",
    "\r\n"
   ],
   "outputs": [],
   "metadata": {}
  },
  {
   "cell_type": "code",
   "execution_count": 33,
   "source": [
    "# Candidate reshaped Koopman tensors\r\n",
    "K_Fortran_order = np.empty((d_x, d_x, d_psi))\r\n",
    "K_C_order = np.empty((d_x, d_x, d_psi))\r\n",
    "\r\n",
    "for i in range(d_x):\r\n",
    "    K_Fortran_order[i] = M[i].reshape((d_x,d_psi), order = 'F')\r\n",
    "    K_C_order[i] = M[i].reshape((d_x,d_psi), order = 'C')"
   ],
   "outputs": [],
   "metadata": {}
  },
  {
   "cell_type": "code",
   "execution_count": 34,
   "source": [
    "# Compare derived action depenedent koopman operator with true operator\r\n",
    "def K_u(K, u):\r\n",
    "    return np.einsum('ijz,z->ij', K, psi(u)[:,0])\r\n",
    "\r\n"
   ],
   "outputs": [],
   "metadata": {}
  },
  {
   "cell_type": "code",
   "execution_count": 35,
   "source": [
    "True_K1"
   ],
   "outputs": [
    {
     "output_type": "execute_result",
     "data": {
      "text/plain": [
       "array([[2, 0],\n",
       "       [0, 2]])"
      ]
     },
     "metadata": {},
     "execution_count": 35
    }
   ],
   "metadata": {}
  },
  {
   "cell_type": "code",
   "execution_count": 36,
   "source": [
    "True_K0"
   ],
   "outputs": [
    {
     "output_type": "execute_result",
     "data": {
      "text/plain": [
       "array([[0.5, 0. ],\n",
       "       [0. , 0.5]])"
      ]
     },
     "metadata": {},
     "execution_count": 36
    }
   ],
   "metadata": {}
  },
  {
   "cell_type": "code",
   "execution_count": 37,
   "source": [
    "K_u(K_C_order,1)"
   ],
   "outputs": [
    {
     "output_type": "execute_result",
     "data": {
      "text/plain": [
       "array([[0.4, 0.8],\n",
       "       [0.8, 1.6]])"
      ]
     },
     "metadata": {},
     "execution_count": 37
    }
   ],
   "metadata": {}
  },
  {
   "cell_type": "code",
   "execution_count": 38,
   "source": [
    "K_u(K_Fortran_order,1)\r\n"
   ],
   "outputs": [
    {
     "output_type": "execute_result",
     "data": {
      "text/plain": [
       "array([[0.2, 0.8],\n",
       "       [0.4, 1.6]])"
      ]
     },
     "metadata": {},
     "execution_count": 38
    }
   ],
   "metadata": {}
  },
  {
   "cell_type": "code",
   "execution_count": 39,
   "source": [
    "K_u(K_Fortran_order,0)"
   ],
   "outputs": [
    {
     "output_type": "execute_result",
     "data": {
      "text/plain": [
       "array([[0.1, 0.4],\n",
       "       [0.2, 0.8]])"
      ]
     },
     "metadata": {},
     "execution_count": 39
    }
   ],
   "metadata": {}
  },
  {
   "cell_type": "code",
   "execution_count": 40,
   "source": [
    "K_u(K_C_order,0)\r\n"
   ],
   "outputs": [
    {
     "output_type": "execute_result",
     "data": {
      "text/plain": [
       "array([[0.1, 0.2],\n",
       "       [0.2, 0.4]])"
      ]
     },
     "metadata": {},
     "execution_count": 40
    }
   ],
   "metadata": {}
  },
  {
   "cell_type": "markdown",
   "source": [
    "Note the differences between the true $K$'s and the estimated $K$'s regardless of the reshape and the action chosen. We are unsure of how to remedy this given the current theoretical exposition."
   ],
   "metadata": {}
  }
 ],
 "metadata": {
  "orig_nbformat": 4,
  "language_info": {
   "name": "python",
   "version": "3.8.11",
   "mimetype": "text/x-python",
   "codemirror_mode": {
    "name": "ipython",
    "version": 3
   },
   "pygments_lexer": "ipython3",
   "nbconvert_exporter": "python",
   "file_extension": ".py"
  },
  "kernelspec": {
   "name": "python3",
   "display_name": "Python 3.8.11 64-bit ('conda-rl-venv': conda)"
  },
  "interpreter": {
   "hash": "61e3cb0a2b113a97be28cd8d26b85b9060be78c5f6c7c6dcefca54bb98cc6b8f"
  }
 },
 "nbformat": 4,
 "nbformat_minor": 2
}